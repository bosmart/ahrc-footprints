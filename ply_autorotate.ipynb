{
  "nbformat": 4,
  "nbformat_minor": 0,
  "metadata": {
    "colab": {
      "provenance": []
    },
    "kernelspec": {
      "name": "python3",
      "display_name": "Python 3"
    },
    "language_info": {
      "name": "python"
    },
    "widgets": {
      "application/vnd.jupyter.widget-state+json": {
        "10cd37dfcc594cbcaa47665f31ffef9a": {
          "model_module": "@jupyter-widgets/controls",
          "model_name": "HBoxModel",
          "model_module_version": "1.5.0",
          "state": {
            "_dom_classes": [],
            "_model_module": "@jupyter-widgets/controls",
            "_model_module_version": "1.5.0",
            "_model_name": "HBoxModel",
            "_view_count": null,
            "_view_module": "@jupyter-widgets/controls",
            "_view_module_version": "1.5.0",
            "_view_name": "HBoxView",
            "box_style": "",
            "children": [
              "IPY_MODEL_fa2d0bd72ff748deb02bd716c84d874d",
              "IPY_MODEL_0be22ec39e4f4dfeade0ccf161e60795",
              "IPY_MODEL_c08b0fd516d348da8a533453a6c59548"
            ],
            "layout": "IPY_MODEL_77a7f87b80474990b9baf17fa177d02d"
          }
        },
        "fa2d0bd72ff748deb02bd716c84d874d": {
          "model_module": "@jupyter-widgets/controls",
          "model_name": "HTMLModel",
          "model_module_version": "1.5.0",
          "state": {
            "_dom_classes": [],
            "_model_module": "@jupyter-widgets/controls",
            "_model_module_version": "1.5.0",
            "_model_name": "HTMLModel",
            "_view_count": null,
            "_view_module": "@jupyter-widgets/controls",
            "_view_module_version": "1.5.0",
            "_view_name": "HTMLView",
            "description": "",
            "description_tooltip": null,
            "layout": "IPY_MODEL_e6c543fe4d0f4d76b8db8b323b79b695",
            "placeholder": "​",
            "style": "IPY_MODEL_49aa482c695549bdbfc0bf12b2da94be",
            "value": "100%"
          }
        },
        "0be22ec39e4f4dfeade0ccf161e60795": {
          "model_module": "@jupyter-widgets/controls",
          "model_name": "FloatProgressModel",
          "model_module_version": "1.5.0",
          "state": {
            "_dom_classes": [],
            "_model_module": "@jupyter-widgets/controls",
            "_model_module_version": "1.5.0",
            "_model_name": "FloatProgressModel",
            "_view_count": null,
            "_view_module": "@jupyter-widgets/controls",
            "_view_module_version": "1.5.0",
            "_view_name": "ProgressView",
            "bar_style": "success",
            "description": "",
            "description_tooltip": null,
            "layout": "IPY_MODEL_05978330cd3f48ca8f8015a00b3aa38d",
            "max": 1,
            "min": 0,
            "orientation": "horizontal",
            "style": "IPY_MODEL_bd9c54fa1de24dc38ace11e18366aa28",
            "value": 1
          }
        },
        "c08b0fd516d348da8a533453a6c59548": {
          "model_module": "@jupyter-widgets/controls",
          "model_name": "HTMLModel",
          "model_module_version": "1.5.0",
          "state": {
            "_dom_classes": [],
            "_model_module": "@jupyter-widgets/controls",
            "_model_module_version": "1.5.0",
            "_model_name": "HTMLModel",
            "_view_count": null,
            "_view_module": "@jupyter-widgets/controls",
            "_view_module_version": "1.5.0",
            "_view_name": "HTMLView",
            "description": "",
            "description_tooltip": null,
            "layout": "IPY_MODEL_0043b55ef0b34335b2f0cc4ac398c47e",
            "placeholder": "​",
            "style": "IPY_MODEL_363c4b51004141f2b65fd100b67c4a20",
            "value": " 1/1 [00:01&lt;00:00,  1.79s/it]"
          }
        },
        "77a7f87b80474990b9baf17fa177d02d": {
          "model_module": "@jupyter-widgets/base",
          "model_name": "LayoutModel",
          "model_module_version": "1.2.0",
          "state": {
            "_model_module": "@jupyter-widgets/base",
            "_model_module_version": "1.2.0",
            "_model_name": "LayoutModel",
            "_view_count": null,
            "_view_module": "@jupyter-widgets/base",
            "_view_module_version": "1.2.0",
            "_view_name": "LayoutView",
            "align_content": null,
            "align_items": null,
            "align_self": null,
            "border": null,
            "bottom": null,
            "display": null,
            "flex": null,
            "flex_flow": null,
            "grid_area": null,
            "grid_auto_columns": null,
            "grid_auto_flow": null,
            "grid_auto_rows": null,
            "grid_column": null,
            "grid_gap": null,
            "grid_row": null,
            "grid_template_areas": null,
            "grid_template_columns": null,
            "grid_template_rows": null,
            "height": null,
            "justify_content": null,
            "justify_items": null,
            "left": null,
            "margin": null,
            "max_height": null,
            "max_width": null,
            "min_height": null,
            "min_width": null,
            "object_fit": null,
            "object_position": null,
            "order": null,
            "overflow": null,
            "overflow_x": null,
            "overflow_y": null,
            "padding": null,
            "right": null,
            "top": null,
            "visibility": null,
            "width": null
          }
        },
        "e6c543fe4d0f4d76b8db8b323b79b695": {
          "model_module": "@jupyter-widgets/base",
          "model_name": "LayoutModel",
          "model_module_version": "1.2.0",
          "state": {
            "_model_module": "@jupyter-widgets/base",
            "_model_module_version": "1.2.0",
            "_model_name": "LayoutModel",
            "_view_count": null,
            "_view_module": "@jupyter-widgets/base",
            "_view_module_version": "1.2.0",
            "_view_name": "LayoutView",
            "align_content": null,
            "align_items": null,
            "align_self": null,
            "border": null,
            "bottom": null,
            "display": null,
            "flex": null,
            "flex_flow": null,
            "grid_area": null,
            "grid_auto_columns": null,
            "grid_auto_flow": null,
            "grid_auto_rows": null,
            "grid_column": null,
            "grid_gap": null,
            "grid_row": null,
            "grid_template_areas": null,
            "grid_template_columns": null,
            "grid_template_rows": null,
            "height": null,
            "justify_content": null,
            "justify_items": null,
            "left": null,
            "margin": null,
            "max_height": null,
            "max_width": null,
            "min_height": null,
            "min_width": null,
            "object_fit": null,
            "object_position": null,
            "order": null,
            "overflow": null,
            "overflow_x": null,
            "overflow_y": null,
            "padding": null,
            "right": null,
            "top": null,
            "visibility": null,
            "width": null
          }
        },
        "49aa482c695549bdbfc0bf12b2da94be": {
          "model_module": "@jupyter-widgets/controls",
          "model_name": "DescriptionStyleModel",
          "model_module_version": "1.5.0",
          "state": {
            "_model_module": "@jupyter-widgets/controls",
            "_model_module_version": "1.5.0",
            "_model_name": "DescriptionStyleModel",
            "_view_count": null,
            "_view_module": "@jupyter-widgets/base",
            "_view_module_version": "1.2.0",
            "_view_name": "StyleView",
            "description_width": ""
          }
        },
        "05978330cd3f48ca8f8015a00b3aa38d": {
          "model_module": "@jupyter-widgets/base",
          "model_name": "LayoutModel",
          "model_module_version": "1.2.0",
          "state": {
            "_model_module": "@jupyter-widgets/base",
            "_model_module_version": "1.2.0",
            "_model_name": "LayoutModel",
            "_view_count": null,
            "_view_module": "@jupyter-widgets/base",
            "_view_module_version": "1.2.0",
            "_view_name": "LayoutView",
            "align_content": null,
            "align_items": null,
            "align_self": null,
            "border": null,
            "bottom": null,
            "display": null,
            "flex": null,
            "flex_flow": null,
            "grid_area": null,
            "grid_auto_columns": null,
            "grid_auto_flow": null,
            "grid_auto_rows": null,
            "grid_column": null,
            "grid_gap": null,
            "grid_row": null,
            "grid_template_areas": null,
            "grid_template_columns": null,
            "grid_template_rows": null,
            "height": null,
            "justify_content": null,
            "justify_items": null,
            "left": null,
            "margin": null,
            "max_height": null,
            "max_width": null,
            "min_height": null,
            "min_width": null,
            "object_fit": null,
            "object_position": null,
            "order": null,
            "overflow": null,
            "overflow_x": null,
            "overflow_y": null,
            "padding": null,
            "right": null,
            "top": null,
            "visibility": null,
            "width": null
          }
        },
        "bd9c54fa1de24dc38ace11e18366aa28": {
          "model_module": "@jupyter-widgets/controls",
          "model_name": "ProgressStyleModel",
          "model_module_version": "1.5.0",
          "state": {
            "_model_module": "@jupyter-widgets/controls",
            "_model_module_version": "1.5.0",
            "_model_name": "ProgressStyleModel",
            "_view_count": null,
            "_view_module": "@jupyter-widgets/base",
            "_view_module_version": "1.2.0",
            "_view_name": "StyleView",
            "bar_color": null,
            "description_width": ""
          }
        },
        "0043b55ef0b34335b2f0cc4ac398c47e": {
          "model_module": "@jupyter-widgets/base",
          "model_name": "LayoutModel",
          "model_module_version": "1.2.0",
          "state": {
            "_model_module": "@jupyter-widgets/base",
            "_model_module_version": "1.2.0",
            "_model_name": "LayoutModel",
            "_view_count": null,
            "_view_module": "@jupyter-widgets/base",
            "_view_module_version": "1.2.0",
            "_view_name": "LayoutView",
            "align_content": null,
            "align_items": null,
            "align_self": null,
            "border": null,
            "bottom": null,
            "display": null,
            "flex": null,
            "flex_flow": null,
            "grid_area": null,
            "grid_auto_columns": null,
            "grid_auto_flow": null,
            "grid_auto_rows": null,
            "grid_column": null,
            "grid_gap": null,
            "grid_row": null,
            "grid_template_areas": null,
            "grid_template_columns": null,
            "grid_template_rows": null,
            "height": null,
            "justify_content": null,
            "justify_items": null,
            "left": null,
            "margin": null,
            "max_height": null,
            "max_width": null,
            "min_height": null,
            "min_width": null,
            "object_fit": null,
            "object_position": null,
            "order": null,
            "overflow": null,
            "overflow_x": null,
            "overflow_y": null,
            "padding": null,
            "right": null,
            "top": null,
            "visibility": null,
            "width": null
          }
        },
        "363c4b51004141f2b65fd100b67c4a20": {
          "model_module": "@jupyter-widgets/controls",
          "model_name": "DescriptionStyleModel",
          "model_module_version": "1.5.0",
          "state": {
            "_model_module": "@jupyter-widgets/controls",
            "_model_module_version": "1.5.0",
            "_model_name": "DescriptionStyleModel",
            "_view_count": null,
            "_view_module": "@jupyter-widgets/base",
            "_view_module_version": "1.2.0",
            "_view_name": "StyleView",
            "description_width": ""
          }
        }
      }
    }
  },
  "cells": [
    {
      "cell_type": "markdown",
      "source": [
        "# Imports and functions"
      ],
      "metadata": {
        "id": "ZRDDbzaAo-MX"
      }
    },
    {
      "cell_type": "code",
      "source": [
        "!pip install --quiet plyfile"
      ],
      "metadata": {
        "id": "o5i2kBzDpCdL"
      },
      "execution_count": null,
      "outputs": []
    },
    {
      "cell_type": "code",
      "source": [
        "import numpy as np\n",
        "import pandas as pd\n",
        "import scipy.interpolate as interp\n",
        "from pathlib import Path\n",
        "from plyfile import PlyData, PlyElement\n",
        "from tqdm.notebook import tqdm"
      ],
      "metadata": {
        "id": "w3WAmIeio2qR"
      },
      "execution_count": null,
      "outputs": []
    },
    {
      "cell_type": "code",
      "source": [
        "def normalize_z_axis(xyz, xyzi, val):\n",
        "    dif = np.hstack( ( np.zeros( ( xyz.shape[0], 2 ) ), np.zeros( ( xyz.shape[0], 1 ) ) + val ) )\n",
        "    xyzi = ( xyzi[0], xyzi[1], xyzi[2]-val, xyzi[3], xyzi[4] )\n",
        "    xyz = xyz - dif\n",
        "    return xyz, xyzi"
      ],
      "metadata": {
        "id": "eIUdfW7Rqu9i"
      },
      "execution_count": null,
      "outputs": []
    },
    {
      "cell_type": "code",
      "source": [
        "def interpolate(data, precision, method=\"linear\", mn=None, mx=None, multiplier=1):\n",
        "    dataMulti = data*multiplier\n",
        "\n",
        "    if mn is None or mx is None:\n",
        "      mn, mx = dataMulti.min(axis=0), dataMulti.max(axis=0)\n",
        "\n",
        "    mn = precision * (10 * mn / (precision * 10)).astype(int)\n",
        "    mx = precision * (10 * mx / (precision * 10)).astype(int)\n",
        "\n",
        "    xm = np.arange(mn[0], mx[0] + precision, precision)\n",
        "    ym = np.arange(mn[1], mx[1] + precision, precision)\n",
        "\n",
        "    x, y = np.meshgrid(xm, ym)\n",
        "    z = interp.griddata(dataMulti[:, 0:2], dataMulti[:, 2], (x, y), method=method)\n",
        "\n",
        "    xyz = data\n",
        "    xyzi = [x,y,z,xm,ym]\n",
        "    return xyzi"
      ],
      "metadata": {
        "id": "WPG5ZSkNqxOk"
      },
      "execution_count": null,
      "outputs": []
    },
    {
      "cell_type": "code",
      "source": [
        "def autoRotate(xyz, precision=0.5):\n",
        "\n",
        "    # eigenvectors cannot be calculated when there are NaN-s in the image -> replace them with max value\n",
        "    toRotate = xyz\n",
        "    nanIndices = np.where(np.isnan(toRotate))\n",
        "    toRotate[nanIndices] = np.nanmax(toRotate[:,2])\n",
        "\n",
        "    c = np.nanmean(xyz, axis=0)\n",
        "    data = xyz - c\n",
        "\n",
        "    nanIndices = np.where(np.isnan(data))\n",
        "    data[nanIndices] = np.nanmax(data)\n",
        "\n",
        "    eig = np.linalg.eig( np.dot( np.transpose( data ), data ) )\n",
        "\n",
        "    # numpy does not automatically order the eigenvectors.\n",
        "    # We need to order them from the one corresponding to the max eigen value and descending\n",
        "    order = np.argsort(eig[0])[::-1]\n",
        "\n",
        "    PCs = np.vstack(( eig[1][:,order[0]],\n",
        "                      eig[1][:,order[1]],\n",
        "                      eig[1][:,order[2]] ))\n",
        "\n",
        "    c = np.nanmean(toRotate, axis=0)\n",
        "    rotated_xyz = c + (toRotate - c) @ PCs.T\n",
        "\n",
        "    rotated_x, rotated_y, rotated_z, rotated_xm, rotated_ym = interpolate(rotated_xyz, precision, \"linear\", None, None, True)\n",
        "    rotated_xyzi = rotated_x, rotated_y, rotated_z, rotated_xm, rotated_ym\n",
        "\n",
        "    rotated_xyz, rotated_xyzi = normalize_z_axis( rotated_xyz, rotated_xyzi, np.nanmin( rotated_xyzi[2] ) )\n",
        "    return rotated_xyz"
      ],
      "metadata": {
        "id": "luu5r6EorC2l"
      },
      "execution_count": null,
      "outputs": []
    },
    {
      "cell_type": "markdown",
      "source": [
        "# Upload and unzip files"
      ],
      "metadata": {
        "id": "ndGS3UStpcdH"
      }
    },
    {
      "cell_type": "markdown",
      "source": [
        "Upload raw or zipped .ply file(s) and then run:"
      ],
      "metadata": {
        "id": "XxW7t3fSpoP_"
      }
    },
    {
      "cell_type": "code",
      "source": [
        "!unzip -o *.zip"
      ],
      "metadata": {
        "colab": {
          "base_uri": "https://localhost:8080/"
        },
        "id": "ce77h3HPpazP",
        "outputId": "32cc476a-542f-4e0f-c09e-149df3553049"
      },
      "execution_count": null,
      "outputs": [
        {
          "output_type": "stream",
          "name": "stdout",
          "text": [
            "unzip:  cannot find or open *.zip, *.zip.zip or *.zip.ZIP.\n",
            "\n",
            "No zipfiles found.\n"
          ]
        }
      ]
    },
    {
      "cell_type": "code",
      "source": [
        "!rm *.zip"
      ],
      "metadata": {
        "id": "YBGIeEaSLX-t",
        "colab": {
          "base_uri": "https://localhost:8080/"
        },
        "outputId": "f53bbb1a-dabf-4def-e61b-eac1bdbb62dc"
      },
      "execution_count": null,
      "outputs": [
        {
          "output_type": "stream",
          "name": "stdout",
          "text": [
            "rm: cannot remove '*.zip': No such file or directory\n"
          ]
        }
      ]
    },
    {
      "cell_type": "markdown",
      "source": [
        "# Rectify all *.ply* files:"
      ],
      "metadata": {
        "id": "1C3HXLu5qjqU"
      }
    },
    {
      "cell_type": "code",
      "source": [
        "path = Path('.')\n",
        "fns = [p for p in path.iterdir() if p.suffix.lower()=='.ply']\n",
        "fns"
      ],
      "metadata": {
        "id": "K0OZYDGSK04x",
        "colab": {
          "base_uri": "https://localhost:8080/"
        },
        "outputId": "5d4851c4-d8d8-45bc-c4de-1908d2f83a2d"
      },
      "execution_count": null,
      "outputs": [
        {
          "output_type": "execute_result",
          "data": {
            "text/plain": [
              "[PosixPath('Scaniverse 2024-02-26 101133bicrop.ply')]"
            ]
          },
          "metadata": {},
          "execution_count": 8
        }
      ]
    },
    {
      "cell_type": "code",
      "source": [
        "for fn in tqdm(fns):\n",
        "    print(f'Processing file: {fn}')\n",
        "\n",
        "    print(f'--> Reading...')\n",
        "    plydata = PlyData.read(fn)\n",
        "    xyz = np.stack((plydata['vertex']['x'], plydata['vertex']['y'], plydata['vertex']['z'])).T\n",
        "\n",
        "    print(f'--> Rotating...')\n",
        "    rotated_xyz = autoRotate(xyz, precision=0.5)\n",
        "\n",
        "    print(f'--> Saving...')\n",
        "    df = pd.DataFrame(rotated_xyz, columns=['x','y','z'])\n",
        "    df.to_csv(fn.with_suffix('.csv'), float_format='%.4f', columns=['x','y','z'])"
      ],
      "metadata": {
        "colab": {
          "base_uri": "https://localhost:8080/",
          "height": 118,
          "referenced_widgets": [
            "10cd37dfcc594cbcaa47665f31ffef9a",
            "fa2d0bd72ff748deb02bd716c84d874d",
            "0be22ec39e4f4dfeade0ccf161e60795",
            "c08b0fd516d348da8a533453a6c59548",
            "77a7f87b80474990b9baf17fa177d02d",
            "e6c543fe4d0f4d76b8db8b323b79b695",
            "49aa482c695549bdbfc0bf12b2da94be",
            "05978330cd3f48ca8f8015a00b3aa38d",
            "bd9c54fa1de24dc38ace11e18366aa28",
            "0043b55ef0b34335b2f0cc4ac398c47e",
            "363c4b51004141f2b65fd100b67c4a20"
          ]
        },
        "id": "Jk0DDvHNrzOV",
        "outputId": "b84d5074-8f11-49e9-af00-2ad5c63fe84a"
      },
      "execution_count": null,
      "outputs": [
        {
          "output_type": "display_data",
          "data": {
            "text/plain": [
              "  0%|          | 0/1 [00:00<?, ?it/s]"
            ],
            "application/vnd.jupyter.widget-view+json": {
              "version_major": 2,
              "version_minor": 0,
              "model_id": "10cd37dfcc594cbcaa47665f31ffef9a"
            }
          },
          "metadata": {}
        },
        {
          "output_type": "stream",
          "name": "stdout",
          "text": [
            "Processing file: Scaniverse 2024-02-26 101133bicrop.ply\n",
            "--> Reading...\n",
            "--> Rotating...\n",
            "--> Saving...\n"
          ]
        }
      ]
    },
    {
      "cell_type": "markdown",
      "source": [
        "Zip the .csv files for faster download:"
      ],
      "metadata": {
        "id": "G4fgrVMEtcWu"
      }
    },
    {
      "cell_type": "code",
      "source": [
        "!zip rectified.zip *.csv"
      ],
      "metadata": {
        "id": "ebwilrrws-Xh",
        "colab": {
          "base_uri": "https://localhost:8080/"
        },
        "outputId": "b8e0b8a3-f2a0-445b-e642-7757d7ef85a5"
      },
      "execution_count": null,
      "outputs": [
        {
          "output_type": "stream",
          "name": "stdout",
          "text": [
            "  adding: Scaniverse 2024-02-26 101133bicrop.csv (deflated 73%)\n"
          ]
        }
      ]
    },
    {
      "cell_type": "code",
      "source": [],
      "metadata": {
        "id": "DETeCqdTz3WW"
      },
      "execution_count": null,
      "outputs": []
    }
  ]
}