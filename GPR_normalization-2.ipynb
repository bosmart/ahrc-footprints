{
  "cells": [
    {
      "cell_type": "code",
      "source": [
        "!pip install pykrige -qqU"
      ],
      "metadata": {
        "id": "DrqK8Y3rbFDp"
      },
      "execution_count": null,
      "outputs": []
    },
    {
      "cell_type": "code",
      "execution_count": null,
      "metadata": {
        "colab": {
          "base_uri": "https://localhost:8080/"
        },
        "id": "q8KV67AMoeU8",
        "outputId": "e96732ce-eced-43ee-ae53-a622e52bdc2d"
      },
      "outputs": [
        {
          "output_type": "stream",
          "name": "stdout",
          "text": [
            "Archive:  Horde_slice 1.dat.zip\n",
            "  inflating: Horde_slice 1.dat       \n"
          ]
        }
      ],
      "source": [
        "!unzip *.zip"
      ]
    },
    {
      "cell_type": "code",
      "execution_count": null,
      "metadata": {
        "id": "GHj5TQiXCIwV"
      },
      "outputs": [],
      "source": [
        "import numpy as np, pandas as pd, cv2 as cv\n",
        "import matplotlib.pyplot as plt\n",
        "from scipy.interpolate import griddata\n",
        "from tqdm import trange, tqdm\n",
        "from PIL import Image"
      ]
    },
    {
      "cell_type": "code",
      "execution_count": null,
      "metadata": {
        "id": "JvQrMiVeCP_v",
        "colab": {
          "base_uri": "https://localhost:8080/",
          "height": 204
        },
        "outputId": "f188fc6a-d80d-4af2-a193-fa338f26fcb4"
      },
      "outputs": [
        {
          "output_type": "execute_result",
          "data": {
            "text/plain": [
              "              x          y             z\n",
              "0  364128.00000  3632519.0  1.701410e+38\n",
              "1  364128.05005  3632519.0  1.701410e+38\n",
              "2  364128.10010  3632519.0  1.701410e+38\n",
              "3  364128.15015  3632519.0  1.701410e+38\n",
              "4  364128.20020  3632519.0  1.701410e+38"
            ],
            "text/html": [
              "\n",
              "\n",
              "  <div id=\"df-01fd7391-efdc-4ad2-9d0f-4e383e9bf548\">\n",
              "    <div class=\"colab-df-container\">\n",
              "      <div>\n",
              "<style scoped>\n",
              "    .dataframe tbody tr th:only-of-type {\n",
              "        vertical-align: middle;\n",
              "    }\n",
              "\n",
              "    .dataframe tbody tr th {\n",
              "        vertical-align: top;\n",
              "    }\n",
              "\n",
              "    .dataframe thead th {\n",
              "        text-align: right;\n",
              "    }\n",
              "</style>\n",
              "<table border=\"1\" class=\"dataframe\">\n",
              "  <thead>\n",
              "    <tr style=\"text-align: right;\">\n",
              "      <th></th>\n",
              "      <th>x</th>\n",
              "      <th>y</th>\n",
              "      <th>z</th>\n",
              "    </tr>\n",
              "  </thead>\n",
              "  <tbody>\n",
              "    <tr>\n",
              "      <th>0</th>\n",
              "      <td>364128.00000</td>\n",
              "      <td>3632519.0</td>\n",
              "      <td>1.701410e+38</td>\n",
              "    </tr>\n",
              "    <tr>\n",
              "      <th>1</th>\n",
              "      <td>364128.05005</td>\n",
              "      <td>3632519.0</td>\n",
              "      <td>1.701410e+38</td>\n",
              "    </tr>\n",
              "    <tr>\n",
              "      <th>2</th>\n",
              "      <td>364128.10010</td>\n",
              "      <td>3632519.0</td>\n",
              "      <td>1.701410e+38</td>\n",
              "    </tr>\n",
              "    <tr>\n",
              "      <th>3</th>\n",
              "      <td>364128.15015</td>\n",
              "      <td>3632519.0</td>\n",
              "      <td>1.701410e+38</td>\n",
              "    </tr>\n",
              "    <tr>\n",
              "      <th>4</th>\n",
              "      <td>364128.20020</td>\n",
              "      <td>3632519.0</td>\n",
              "      <td>1.701410e+38</td>\n",
              "    </tr>\n",
              "  </tbody>\n",
              "</table>\n",
              "</div>\n",
              "      <button class=\"colab-df-convert\" onclick=\"convertToInteractive('df-01fd7391-efdc-4ad2-9d0f-4e383e9bf548')\"\n",
              "              title=\"Convert this dataframe to an interactive table.\"\n",
              "              style=\"display:none;\">\n",
              "\n",
              "  <svg xmlns=\"http://www.w3.org/2000/svg\" height=\"24px\"viewBox=\"0 0 24 24\"\n",
              "       width=\"24px\">\n",
              "    <path d=\"M0 0h24v24H0V0z\" fill=\"none\"/>\n",
              "    <path d=\"M18.56 5.44l.94 2.06.94-2.06 2.06-.94-2.06-.94-.94-2.06-.94 2.06-2.06.94zm-11 1L8.5 8.5l.94-2.06 2.06-.94-2.06-.94L8.5 2.5l-.94 2.06-2.06.94zm10 10l.94 2.06.94-2.06 2.06-.94-2.06-.94-.94-2.06-.94 2.06-2.06.94z\"/><path d=\"M17.41 7.96l-1.37-1.37c-.4-.4-.92-.59-1.43-.59-.52 0-1.04.2-1.43.59L10.3 9.45l-7.72 7.72c-.78.78-.78 2.05 0 2.83L4 21.41c.39.39.9.59 1.41.59.51 0 1.02-.2 1.41-.59l7.78-7.78 2.81-2.81c.8-.78.8-2.07 0-2.86zM5.41 20L4 18.59l7.72-7.72 1.47 1.35L5.41 20z\"/>\n",
              "  </svg>\n",
              "      </button>\n",
              "\n",
              "\n",
              "\n",
              "    <div id=\"df-5c86e4cd-c047-4570-a23a-a919fb06bd4f\">\n",
              "      <button class=\"colab-df-quickchart\" onclick=\"quickchart('df-5c86e4cd-c047-4570-a23a-a919fb06bd4f')\"\n",
              "              title=\"Suggest charts.\"\n",
              "              style=\"display:none;\">\n",
              "\n",
              "<svg xmlns=\"http://www.w3.org/2000/svg\" height=\"24px\"viewBox=\"0 0 24 24\"\n",
              "     width=\"24px\">\n",
              "    <g>\n",
              "        <path d=\"M19 3H5c-1.1 0-2 .9-2 2v14c0 1.1.9 2 2 2h14c1.1 0 2-.9 2-2V5c0-1.1-.9-2-2-2zM9 17H7v-7h2v7zm4 0h-2V7h2v10zm4 0h-2v-4h2v4z\"/>\n",
              "    </g>\n",
              "</svg>\n",
              "      </button>\n",
              "    </div>\n",
              "\n",
              "<style>\n",
              "  .colab-df-quickchart {\n",
              "    background-color: #E8F0FE;\n",
              "    border: none;\n",
              "    border-radius: 50%;\n",
              "    cursor: pointer;\n",
              "    display: none;\n",
              "    fill: #1967D2;\n",
              "    height: 32px;\n",
              "    padding: 0 0 0 0;\n",
              "    width: 32px;\n",
              "  }\n",
              "\n",
              "  .colab-df-quickchart:hover {\n",
              "    background-color: #E2EBFA;\n",
              "    box-shadow: 0px 1px 2px rgba(60, 64, 67, 0.3), 0px 1px 3px 1px rgba(60, 64, 67, 0.15);\n",
              "    fill: #174EA6;\n",
              "  }\n",
              "\n",
              "  [theme=dark] .colab-df-quickchart {\n",
              "    background-color: #3B4455;\n",
              "    fill: #D2E3FC;\n",
              "  }\n",
              "\n",
              "  [theme=dark] .colab-df-quickchart:hover {\n",
              "    background-color: #434B5C;\n",
              "    box-shadow: 0px 1px 3px 1px rgba(0, 0, 0, 0.15);\n",
              "    filter: drop-shadow(0px 1px 2px rgba(0, 0, 0, 0.3));\n",
              "    fill: #FFFFFF;\n",
              "  }\n",
              "</style>\n",
              "\n",
              "    <script>\n",
              "      async function quickchart(key) {\n",
              "        const containerElement = document.querySelector('#' + key);\n",
              "        const charts = await google.colab.kernel.invokeFunction(\n",
              "            'suggestCharts', [key], {});\n",
              "      }\n",
              "    </script>\n",
              "\n",
              "      <script>\n",
              "\n",
              "function displayQuickchartButton(domScope) {\n",
              "  let quickchartButtonEl =\n",
              "    domScope.querySelector('#df-5c86e4cd-c047-4570-a23a-a919fb06bd4f button.colab-df-quickchart');\n",
              "  quickchartButtonEl.style.display =\n",
              "    google.colab.kernel.accessAllowed ? 'block' : 'none';\n",
              "}\n",
              "\n",
              "        displayQuickchartButton(document);\n",
              "      </script>\n",
              "      <style>\n",
              "    .colab-df-container {\n",
              "      display:flex;\n",
              "      flex-wrap:wrap;\n",
              "      gap: 12px;\n",
              "    }\n",
              "\n",
              "    .colab-df-convert {\n",
              "      background-color: #E8F0FE;\n",
              "      border: none;\n",
              "      border-radius: 50%;\n",
              "      cursor: pointer;\n",
              "      display: none;\n",
              "      fill: #1967D2;\n",
              "      height: 32px;\n",
              "      padding: 0 0 0 0;\n",
              "      width: 32px;\n",
              "    }\n",
              "\n",
              "    .colab-df-convert:hover {\n",
              "      background-color: #E2EBFA;\n",
              "      box-shadow: 0px 1px 2px rgba(60, 64, 67, 0.3), 0px 1px 3px 1px rgba(60, 64, 67, 0.15);\n",
              "      fill: #174EA6;\n",
              "    }\n",
              "\n",
              "    [theme=dark] .colab-df-convert {\n",
              "      background-color: #3B4455;\n",
              "      fill: #D2E3FC;\n",
              "    }\n",
              "\n",
              "    [theme=dark] .colab-df-convert:hover {\n",
              "      background-color: #434B5C;\n",
              "      box-shadow: 0px 1px 3px 1px rgba(0, 0, 0, 0.15);\n",
              "      filter: drop-shadow(0px 1px 2px rgba(0, 0, 0, 0.3));\n",
              "      fill: #FFFFFF;\n",
              "    }\n",
              "  </style>\n",
              "\n",
              "      <script>\n",
              "        const buttonEl =\n",
              "          document.querySelector('#df-01fd7391-efdc-4ad2-9d0f-4e383e9bf548 button.colab-df-convert');\n",
              "        buttonEl.style.display =\n",
              "          google.colab.kernel.accessAllowed ? 'block' : 'none';\n",
              "\n",
              "        async function convertToInteractive(key) {\n",
              "          const element = document.querySelector('#df-01fd7391-efdc-4ad2-9d0f-4e383e9bf548');\n",
              "          const dataTable =\n",
              "            await google.colab.kernel.invokeFunction('convertToInteractive',\n",
              "                                                     [key], {});\n",
              "          if (!dataTable) return;\n",
              "\n",
              "          const docLinkHtml = 'Like what you see? Visit the ' +\n",
              "            '<a target=\"_blank\" href=https://colab.research.google.com/notebooks/data_table.ipynb>data table notebook</a>'\n",
              "            + ' to learn more about interactive tables.';\n",
              "          element.innerHTML = '';\n",
              "          dataTable['output_type'] = 'display_data';\n",
              "          await google.colab.output.renderOutput(dataTable, element);\n",
              "          const docLink = document.createElement('div');\n",
              "          docLink.innerHTML = docLinkHtml;\n",
              "          element.appendChild(docLink);\n",
              "        }\n",
              "      </script>\n",
              "    </div>\n",
              "  </div>\n"
            ]
          },
          "metadata": {},
          "execution_count": 3
        }
      ],
      "source": [
        "df = pd.read_csv('Horde_slice 1.dat', sep=' ', header=None, names=['x','y','z'])\n",
        "df.head()"
      ]
    },
    {
      "cell_type": "code",
      "execution_count": null,
      "metadata": {
        "id": "gcOIt9D7Cf6Q",
        "colab": {
          "base_uri": "https://localhost:8080/"
        },
        "outputId": "89e0cb90-87fc-4d7b-f6f0-4a696aec0362"
      },
      "outputs": [
        {
          "output_type": "execute_result",
          "data": {
            "text/plain": [
              "((620, 1000), 8885.933, 17982.962, (328901,))"
            ]
          },
          "metadata": {},
          "execution_count": 4
        }
      ],
      "source": [
        "min_x,max_x = df['x'].min(),df['x'].max()\n",
        "min_y,max_y = df['y'].min(),df['y'].max()\n",
        "\n",
        "grid_x,grid_y = np.meshgrid(np.arange(min_x,max_x,0.05), np.arange(min_y,max_y,0.05))\n",
        "points = df[['x','y']].values\n",
        "values = df['z'].values\n",
        "values[values > 1.7e+37] = np.nan\n",
        "\n",
        "grid = griddata(points, values, (grid_x, grid_y), method='nearest')#, fill_value=np.nan, rescale=False)\n",
        "pd.DataFrame(zip(grid_x.flatten(), grid_y.flatten(), grid.flatten()), columns=['x','y','z']).to_csv(f'original_grid.csv', index=None)\n",
        "grid.shape, np.nanmin(grid), np.nanmax(grid), np.unique(grid).shape"
      ]
    },
    {
      "cell_type": "code",
      "execution_count": null,
      "metadata": {
        "id": "pgpl6q1IuSyE"
      },
      "outputs": [],
      "source": [
        "plt.hist(grid.flatten(),bins=100);"
      ]
    },
    {
      "cell_type": "code",
      "execution_count": null,
      "metadata": {
        "id": "UWn2foPMpUmR"
      },
      "outputs": [],
      "source": [
        "# _,ax = plt.subplots(1,1,figsize=(20,10))\n",
        "plt.imshow(grid, origin='lower');"
      ]
    },
    {
      "cell_type": "code",
      "execution_count": null,
      "metadata": {
        "id": "djlAcTmedl0m"
      },
      "outputs": [],
      "source": [
        "strides = [1,2,3,5]\n",
        "wnds = [5, 10, 15, 18, 19, 20, 21, 22, 25]\n",
        "\n",
        "strides = [5]\n",
        "wnds = [20]\n",
        "\n",
        "mx = np.nanmax(grid)\n",
        "\n",
        "for stride in tqdm(strides):\n",
        "  for wnd in tqdm(wnds):\n",
        "    grid_norm, cnts = np.zeros_like(grid),np.zeros_like(grid)\n",
        "\n",
        "    for row in range(0,grid.shape[0]-wnd,stride):\n",
        "        for col in range(0,grid.shape[1]-wnd,stride):\n",
        "            d = grid[row:row+wnd, col:col+wnd]\n",
        "\n",
        "            grid_norm[row:row+wnd, col:col+wnd] += (d - np.nanmin(d)) / (np.nanmax(d)-np.nanmin(d) + 1e-8)  # 0..1 range\n",
        "            # grid_norm[row:row+wnd, col:col+wnd] += (d - np.nanmean(d)) / (np.nanstd(d) + 1e-8)            # 0-mean, 1-std\n",
        "            # grid_norm[row:row+wnd, col:col+wnd] += d / np.sqrt(np.nansum(d**2)+1e-8)                      # L2-norm\n",
        "            # grid_norm[row:row+wnd, col:col+wnd] += cv.equalizeHist((256*d/mx).astype('uint8')) # histogram equalization\n",
        "\n",
        "            cnts[row:row+wnd, col:col+wnd] += 1\n",
        "\n",
        "    grid_norm /= (cnts + 1e-8)\n",
        "\n",
        "    fname = f'window_{wnd}_stride_{stride}'\n",
        "    pd.DataFrame(zip(grid_x.flatten(), grid_y.flatten(), grid_norm.flatten()), columns=['x','y','z']).to_csv(f'{fname}.csv', index=None)\n",
        "\n",
        "    fig,ax = plt.subplots(1,1,figsize=(20,10))\n",
        "    ax.imshow(grid_norm, origin='lower') #, interpolation='bilinear');\n",
        "    fig.savefig(f'{fname}.png')"
      ]
    },
    {
      "cell_type": "code",
      "execution_count": null,
      "metadata": {
        "id": "NlBMAtsWZ9AT"
      },
      "outputs": [],
      "source": [
        "grid_norm.shape, np.nanmin(grid_norm), np.nanmax(grid_norm), np.unique(grid_norm).shape"
      ]
    },
    {
      "cell_type": "code",
      "source": [
        "# https://scikit-gstat.readthedocs.io/en/latest/userguide/kriging.html\n",
        "#from pykrige.uk import UniversalKriging\n",
        "#from pykrige.ok import OrdinaryKriging\n",
        "\n",
        "#UK = UniversalKriging(\n",
        "    #grid_x.flatten(),\n",
        "   # grid_y.flatten(),\n",
        "    #grid_norm.flatten(),\n",
        "   # variogram_model=\"linear\",\n",
        "   # drift_terms=[\"regional_linear\"],\n",
        "#)\n",
        "\n",
        "#OK = OrdinaryKriging(\n",
        "   # grid_x.flatten(),\n",
        "    #grid_y.flatten(),\n",
        "    #grid_norm.flatten(),\n",
        "    #variogram_model=\"linear\",\n",
        "   # verbose=False,\n",
        "    #enable_plotting=False,\n",
        "#)\n",
        "\n",
        "# z, ss = UK.execute(\"grid\", np.arange(min_x,max_x,0.04), np.arange(min_y,max_y,0.04))\n",
        "#z, ss = OK.execute(\"grid\", np.arange(min_x,max_x,0.04), np.arange(min_y,max_y,0.04))\n",
        "\n",
        "\n",
        "#plt.imshow(z)\n",
        "#plt.show()"
      ],
      "metadata": {
        "id": "QxiYM64Kaq_V"
      },
      "execution_count": null,
      "outputs": []
    },
    {
      "cell_type": "code",
      "execution_count": null,
      "metadata": {
        "id": "qMoPHRiTac1I"
      },
      "outputs": [],
      "source": [
        "# grid_norm_24 = (grid_norm*255**3).astype(int)\n",
        "# out = np.frombuffer(grid_norm_24.tobytes(), dtype='uint8')\n",
        "# out = out.reshape(*grid_norm_24.shape, -1)[:,:,:3]\n",
        "# Image.fromarray(out).save('Horde_slice_1.png')"
      ]
    },
    {
      "cell_type": "code",
      "execution_count": null,
      "metadata": {
        "id": "ZhJG21Mi_Fux"
      },
      "outputs": [],
      "source": [
        "# fig,ax = plt.subplots(1,1,figsize=(28,14))\n",
        "# ax.imshow(grid_norm, origin='lower') #, interpolation='bilinear');\n",
        "# fig.savefig(f'window_{wnd}_stride_{stride}.png')\n",
        "# # Image.fromarray(grid_norm, mode='L').save('Horde_slice_1.png')"
      ]
    },
    {
      "cell_type": "code",
      "execution_count": null,
      "metadata": {
        "id": "jarnvsrdKhUT"
      },
      "outputs": [],
      "source": [
        "grid_nan[:,4992:4992+wnd+1]"
      ]
    },
    {
      "cell_type": "code",
      "execution_count": null,
      "metadata": {
        "id": "awMphdyXKneT"
      },
      "outputs": [],
      "source": []
    }
  ],
  "metadata": {
    "colab": {
      "provenance": []
    },
    "kernelspec": {
      "display_name": "Python 3",
      "name": "python3"
    },
    "language_info": {
      "name": "python"
    }
  },
  "nbformat": 4,
  "nbformat_minor": 0
}